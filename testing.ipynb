{
 "cells": [
  {
   "cell_type": "code",
   "execution_count": 1,
   "id": "0dd942eb",
   "metadata": {},
   "outputs": [],
   "source": [
    "import getpass\n",
    "import os\n",
    "\n",
    "env_vars = {}\n",
    "try:\n",
    "    with open(\".env\",\"r\") as env_var:\n",
    "        for line in env_var:\n",
    "            env_vars[line.split('=')[0]] = line.split('=')[1]\n",
    "except IOError:\n",
    "    sys.exit(\"Could not open .env\")\n",
    "\n",
    "if not os.environ.get(\"GOOGLE_API_KEY\"):\n",
    "  os.environ[\"GOOGLE_API_KEY\"] = env_vars['GOOGLE_API_KEY']\n",
    "\n",
    "from langchain.chat_models import init_chat_model\n",
    "\n",
    "model = init_chat_model(\"gemini-2.0-flash\", model_provider=\"google_genai\")"
   ]
  },
  {
   "cell_type": "code",
   "execution_count": 4,
   "id": "05738f3d",
   "metadata": {},
   "outputs": [],
   "source": [
    "message= \"2 + 2 * 2\""
   ]
  },
  {
   "cell_type": "code",
   "execution_count": 5,
   "id": "7342aeb8",
   "metadata": {},
   "outputs": [],
   "source": [
    "prompt = [\n",
    "               (\"system\", \"Act like a calculator evaluate the below expression, if it's anything outside of what a calulator an do, respond 'I am a calculator and can't perform the given action'. Just respond with the answer, no explanation\"),\n",
    "               (\"human\", message),\n",
    "           ]"
   ]
  },
  {
   "cell_type": "code",
   "execution_count": 6,
   "id": "7e3eb23e",
   "metadata": {},
   "outputs": [
    {
     "name": "stdout",
     "output_type": "stream",
     "text": [
      "6|\n",
      "|"
     ]
    }
   ],
   "source": [
    "for token in model.stream(prompt):\n",
    "    print(token.content, end=\"|\")"
   ]
  }
 ],
 "metadata": {
  "kernelspec": {
   "display_name": "llm-calculator",
   "language": "python",
   "name": "python3"
  },
  "language_info": {
   "codemirror_mode": {
    "name": "ipython",
    "version": 3
   },
   "file_extension": ".py",
   "mimetype": "text/x-python",
   "name": "python",
   "nbconvert_exporter": "python",
   "pygments_lexer": "ipython3",
   "version": "3.11.5"
  }
 },
 "nbformat": 4,
 "nbformat_minor": 5
}
